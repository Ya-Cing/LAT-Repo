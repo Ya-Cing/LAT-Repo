{
 "cells": [
  {
   "cell_type": "code",
   "execution_count": 14,
   "id": "7c8469ea",
   "metadata": {},
   "outputs": [],
   "source": [
    "import openai\n",
    "import pandas as pd"
   ]
  },
  {
   "cell_type": "code",
   "execution_count": 15,
   "id": "9e38f5b3",
   "metadata": {},
   "outputs": [],
   "source": [
    "with open('01.txt', 'r', encoding='UTF-8') as fh:\n",
    "    tmp = fh.read()\n",
    "    itemlist = tmp.split(',')"
   ]
  },
  {
   "cell_type": "code",
   "execution_count": 16,
   "id": "5d2938b2",
   "metadata": {},
   "outputs": [],
   "source": [
    "itemlist = str(itemlist)"
   ]
  },
  {
   "cell_type": "code",
   "execution_count": 17,
   "id": "7480d882",
   "metadata": {},
   "outputs": [],
   "source": [
    "keyfile = open(\"key.txt\", \"r\")\n",
    "key = keyfile.readline()\n",
    "openai.api_key = key"
   ]
  },
  {
   "cell_type": "code",
   "execution_count": 18,
   "id": "c2c9e249",
   "metadata": {},
   "outputs": [],
   "source": [
    "data = [itemlist[0:3200], itemlist[3201:6400], \n",
    "        itemlist[6401:9600], itemlist[9601:12800], itemlist[12801:16000]]"
   ]
  },
  {
   "cell_type": "code",
   "execution_count": 19,
   "id": "7543e5fa",
   "metadata": {},
   "outputs": [
    {
     "data": {
      "text/plain": [
       "\"['\\\\nBlockchain in education management: present and future applications \\\\nPreeti Bhaskar \\\\nUniversity of Technology and Applied Sciences', ' Ibra', ' Oman and ICFAI Business School', ' ICFAI University', ' Dehradun', ' India \\\\n\\\\nChandan Kumar Tiwari \\\\nSymbiosis Centre for Management Studies', ' Noida', ' India and Symbiosis International (Deemed University)', ' Pune', ' India', ' and \\\\n\\\\nAmit Joshi \\\\nICFAI Business School', ' ICFAI University', ' Dehradun', ' India \\\\nAbstract \\\\nPurpose � This paper aims to provide a systematic literature review on blockchain technology in education to offer a detailed understanding of the present scenario in terms of bene.ts', ' barriers', ' present blockchain technology application and future areas where blockchain technology can be implemented in the other .elds of education. \\\\nDesign/methodology/approach � A bibliometric analysis is conducted on for data in the publications', ' journals', ' authors and citations were collected', ' and examined by applying bibliometric measures. The data was collected from SCOPUS database on the topic �Blockchain Technology in Education�. The following research questions guided this systematic literature review (SLR: How blockchain technology has been de.ned in educational settings? How were the technology examined (i.e. the methodology)? What were the results of using this technology in an education system? \\\\nFindings � The study identi.es the bene.ts', ' barriers and present application of blockchain technology in education. The analysis shows that blockchain technology in education is still a young discipline', ' but has a lot of potential to bene.ts the educational sector at large. \\\\nPractical implications � This research provides a groundwork for education institutions', ' the policymakers and researchers to explore other areas where blockchain technology can be implemented', ' though this research has also suggested some prospective uses of blockchain technology in different functions of an education system', ' more application can be brought into the education system to exploit the potential of blockchain technology. \\\\nOriginality/value � The paper discusses the application of blockchain technology in education with the help of bibliometric analysis. This is one of the .rst known studies to review the blockchain technology by identifying its bene.ts', ' barriers', ' present blockchain technology application. Based on the analysis', ' future application areas are also identi.ed. \\\\nKeywords Systematic review', ' Education', ' Blockchain technology', ' Blockchain application \\\\nPaper type Literature review \\\\n1. Introduction \\\\nBlockchain was .rst used to a peer-to-peer ledger for record-keeping of the transactions of Bitcoin cryptocurrency. A blockchain transaction in the public ledger contains a veri.able record and once the information entered', ' it cannot be altered or erased in the future. The \\\\nBlockchain in education management \\\\nReceived 4 July 2020 Revised 19 September 2020 Accepted 10 October 2020 \\\\n\\\\nInteractive Technology and Smart Education Vol. 18 No. 1', ' 2021 pp. 1-17 � Emerald Publishing Limited 1741-5659 DOI 10.1108/ITSE-07-2020-0102 \\\\n\\\\nBlockchain tech\""
      ]
     },
     "execution_count": 19,
     "metadata": {},
     "output_type": "execute_result"
    }
   ],
   "source": [
    "data[0]"
   ]
  },
  {
   "cell_type": "code",
   "execution_count": 20,
   "id": "36db1a49",
   "metadata": {},
   "outputs": [],
   "source": [
    "def chatgptfn(sub_list):\n",
    "    result = ''\n",
    "    response = openai.ChatCompletion.create(\n",
    "        model=\"gpt-3.5-turbo\",\n",
    "        messages=[\n",
    "            {\"role\": \"system\", \"content\": \"You are an assistant\"},\n",
    "            {\"role\": \"user\", \"content\": f\"{sub_list} :give me a summary\"}\n",
    "        ]\n",
    "    )\n",
    "    for choice in response.choices:\n",
    "        result += choice.message.content\n",
    "    return result"
   ]
  },
  {
   "cell_type": "code",
   "execution_count": 21,
   "id": "76ee147b",
   "metadata": {},
   "outputs": [],
   "source": [
    "data[0] = chatgptfn(data[0])"
   ]
  },
  {
   "cell_type": "code",
   "execution_count": 22,
   "id": "33d38e62",
   "metadata": {},
   "outputs": [
    {
     "data": {
      "text/plain": [
       "'This paper provides a review of blockchain technology in education, including its definitions, methodology, benefits, and barriers. The study suggests that blockchain technology still has a lot of potential to benefit the education sector at large, and provides groundwork for education institutions, policymakers, and researchers to explore other areas where blockchain technology can be implemented. The paper also discusses future application areas for blockchain technology in education.'"
      ]
     },
     "execution_count": 22,
     "metadata": {},
     "output_type": "execute_result"
    }
   ],
   "source": [
    "data[0]"
   ]
  },
  {
   "cell_type": "code",
   "execution_count": 23,
   "id": "40018e8d",
   "metadata": {},
   "outputs": [],
   "source": [
    "data[1] = chatgptfn(data[1])"
   ]
  },
  {
   "cell_type": "code",
   "execution_count": 24,
   "id": "97589a46",
   "metadata": {},
   "outputs": [],
   "source": [
    "data[2] = chatgptfn(data[2])\n",
    "data[3] = chatgptfn(data[3])"
   ]
  },
  {
   "cell_type": "code",
   "execution_count": 25,
   "id": "7a8b2175",
   "metadata": {},
   "outputs": [],
   "source": [
    "for i in range(0,5):\n",
    "    data[i] = chatgptfn(data[i])"
   ]
  },
  {
   "cell_type": "code",
   "execution_count": 26,
   "id": "30a053ed",
   "metadata": {},
   "outputs": [],
   "source": [
    "import gensim\n",
    "from gensim import corpora\n",
    "from pprint import pprint"
   ]
  },
  {
   "cell_type": "code",
   "execution_count": 11,
   "id": "894693fc",
   "metadata": {},
   "outputs": [
    {
     "name": "stdout",
     "output_type": "stream",
     "text": [
      "Requirement already satisfied: pyLDAvis in c:\\users\\peggy\\anaconda3\\lib\\site-packages (3.4.0)\n",
      "Requirement already satisfied: pandas>=1.3.4 in c:\\users\\peggy\\anaconda3\\lib\\site-packages (from pyLDAvis) (1.4.4)\n",
      "Requirement already satisfied: scikit-learn>=1.0.0 in c:\\users\\peggy\\anaconda3\\lib\\site-packages (from pyLDAvis) (1.0.2)\n",
      "Requirement already satisfied: gensim in c:\\users\\peggy\\anaconda3\\lib\\site-packages (from pyLDAvis) (4.1.2)\n",
      "Requirement already satisfied: numpy>=1.22.0 in c:\\users\\peggy\\anaconda3\\lib\\site-packages (from pyLDAvis) (1.24.2)\n",
      "Requirement already satisfied: setuptools in c:\\users\\peggy\\anaconda3\\lib\\site-packages (from pyLDAvis) (63.4.1)\n",
      "Requirement already satisfied: joblib>=1.2.0 in c:\\users\\peggy\\anaconda3\\lib\\site-packages (from pyLDAvis) (1.2.0)\n",
      "Requirement already satisfied: numexpr in c:\\users\\peggy\\anaconda3\\lib\\site-packages (from pyLDAvis) (2.8.3)\n",
      "Requirement already satisfied: jinja2 in c:\\users\\peggy\\anaconda3\\lib\\site-packages (from pyLDAvis) (2.11.3)\n",
      "Requirement already satisfied: funcy in c:\\users\\peggy\\anaconda3\\lib\\site-packages (from pyLDAvis) (2.0)\n",
      "Requirement already satisfied: scipy in c:\\users\\peggy\\anaconda3\\lib\\site-packages (from pyLDAvis) (1.9.1)\n",
      "Requirement already satisfied: pytz>=2020.1 in c:\\users\\peggy\\anaconda3\\lib\\site-packages (from pandas>=1.3.4->pyLDAvis) (2022.1)\n",
      "Requirement already satisfied: python-dateutil>=2.8.1 in c:\\users\\peggy\\anaconda3\\lib\\site-packages (from pandas>=1.3.4->pyLDAvis) (2.8.2)\n",
      "Requirement already satisfied: threadpoolctl>=2.0.0 in c:\\users\\peggy\\anaconda3\\lib\\site-packages (from scikit-learn>=1.0.0->pyLDAvis) (2.2.0)\n",
      "Requirement already satisfied: smart-open>=1.8.1 in c:\\users\\peggy\\anaconda3\\lib\\site-packages (from gensim->pyLDAvis) (5.2.1)\n",
      "Requirement already satisfied: MarkupSafe>=0.23 in c:\\users\\peggy\\anaconda3\\lib\\site-packages (from jinja2->pyLDAvis) (2.0.1)\n",
      "Requirement already satisfied: packaging in c:\\users\\peggy\\anaconda3\\lib\\site-packages (from numexpr->pyLDAvis) (21.3)\n",
      "Requirement already satisfied: six>=1.5 in c:\\users\\peggy\\anaconda3\\lib\\site-packages (from python-dateutil>=2.8.1->pandas>=1.3.4->pyLDAvis) (1.16.0)\n",
      "Requirement already satisfied: pyparsing!=3.0.5,>=2.0.2 in c:\\users\\peggy\\anaconda3\\lib\\site-packages (from packaging->numexpr->pyLDAvis) (3.0.9)\n"
     ]
    }
   ],
   "source": [
    "!pip3 install pyLDAvis"
   ]
  },
  {
   "cell_type": "code",
   "execution_count": 27,
   "id": "604ceda9",
   "metadata": {},
   "outputs": [],
   "source": [
    "# 創建詞袋\n",
    "texts = [[word for word in document.lower().split()] for document in data]\n",
    "dictionary = corpora.Dictionary(texts)\n",
    "corpus = [dictionary.doc2bow(text) for text in texts]"
   ]
  },
  {
   "cell_type": "code",
   "execution_count": 28,
   "id": "06fa7f68",
   "metadata": {},
   "outputs": [],
   "source": [
    "# 訓練 LDA 模型\n",
    "lda_model = gensim.models.ldamodel.LdaModel(corpus=corpus, id2word=dictionary, \n",
    "                                            num_topics=3, random_state=100, update_every=1, \n",
    "                                            chunksize=100, passes=10, alpha='auto', per_word_topics=True)"
   ]
  },
  {
   "cell_type": "code",
   "execution_count": 29,
   "id": "c7602b5b",
   "metadata": {},
   "outputs": [
    {
     "name": "stderr",
     "output_type": "stream",
     "text": [
      "C:\\Users\\Peggy\\anaconda3\\lib\\site-packages\\pyLDAvis\\_prepare.py:243: FutureWarning: In a future version of pandas all arguments of DataFrame.drop except for the argument 'labels' will be keyword-only.\n",
      "  default_term_info = default_term_info.sort_values(\n"
     ]
    },
    {
     "data": {
      "text/html": [
       "\n",
       "<link rel=\"stylesheet\" type=\"text/css\" href=\"https://cdn.jsdelivr.net/gh/bmabey/pyLDAvis@3.4.0/pyLDAvis/js/ldavis.v1.0.0.css\">\n",
       "\n",
       "\n",
       "<div id=\"ldavis_el953229842395575367048893499\" style=\"background-color:white;\"></div>\n",
       "<script type=\"text/javascript\">\n",
       "\n",
       "var ldavis_el953229842395575367048893499_data = {\"mdsDat\": {\"x\": [-0.07008318681910386, 0.058235564761797656, 0.011847622057306231], \"y\": [-0.016868172201038607, -0.029792720093272326, 0.046660892294310904], \"topics\": [1, 2, 3], \"cluster\": [1, 1, 1], \"Freq\": [61.44879788964077, 38.536966873933764, 0.014235236425466223]}, \"tinfo\": {\"Term\": [\"potential\", \"has\", \"is\", \"the\", \"paper\", \"this\", \"a\", \"education\", \"technology\", \"for\", \"of\", \"and\", \"blockchain\", \"to\", \"use\", \"in\", \"reviews\", \"systematic\", \"its\", \"explores\", \"it\", \"including\", \"that\", \"but\", \"with\", \"student\", \"existing\", \"education.\", \"benefits\", \"been\", \"potential\", \"paper\", \"this\", \"reviews\", \"explores\", \"including\", \"student\", \"existing\", \"but\", \"with\", \"has\", \"preferred\", \"activities\", \"areas\", \"applications\", \"expand\", \"teaching,\", \"followed\", \"settings.\", \"highlights\", \"challenges.\", \"educational\", \"knowledge\", \"other\", \"universities.\", \"reporting\", \"involved\", \"at\", \"study.\", \"researchers\", \"learning,\", \"the\", \"education\", \"and\", \"of\", \"technology\", \"in\", \"systematic\", \"blockchain\", \"use\", \"to\", \"for\", \"that\", \"education.\", \"benefits\", \"review\", \"research\", \"been\", \"a\", \"is\", \"its\", \"it\", \"by\", \"various\", \"analyzed\", \"gaining\", \"strong\", \"suitable\", \"network\", \"create\", \"attention\", \"gdp.\", \"trusted\", \"transfer\", \"however,\", \"expected\", \"204\", \"down\", \"intermediaries.\", \"strategic\", \"article\", \"public\", \"security,\", \"searched\", \"2025,\", \"capabilities\", \"transparency,\", \"about\", \"articles.\", \"have\", \"direct\", \"could\", \"content\", \"subject\", \"is\", \"they\", \"databases\", \"a\", \"lacks\", \"it\", \"its\", \"found\", \"education,\", \"in\", \"and\", \"for\", \"blockchain\", \"to\", \"that\", \"technology\", \"the\", \"of\", \"education.\", \"use\", \"been\", \"new\", \"has\", \"on\", \"since\", \"education\", \"research\", \"review\", \"systematic\", \"need\", \"future\", \"2025,\", \"utilized\", \"allows\", \"used\", \"expected\", \"transfer\", \"higher\", \"could\", \"credit\", \"institutions.\", \"global\", \"sectors.\", \"decentralized\", \"world's\", \"grading\", \"trusted\", \"security,\", \"industries.\", \"network\", \"cybersecurity\", \"10%\", \"control\", \"without\", \"gdp.\", \"intermediaries.\", \"immutability\", \"strong\", \"transparency,\", \"create\", \"students\", \"argues\", \"challenges.\", \"beneficial\", \"the\", \"policymakers,\", \"and\", \"technology\", \"use\", \"for\", \"in\", \"foundational\", \"blockchain\", \"of\", \"to\", \"has\", \"offers\", \"potential\", \"its\", \"researchers\", \"it\", \"is\", \"education,\", \"that\", \"education\", \"been\", \"paper\", \"education.\", \"benefits\", \"various\", \"reviews\", \"be\", \"a\", \"systematic\", \"by\", \"this\", \"need\"], \"Freq\": [5.0, 5.0, 6.0, 19.0, 2.0, 2.0, 6.0, 4.0, 9.0, 7.0, 10.0, 16.0, 10.0, 7.0, 5.0, 12.0, 2.0, 3.0, 4.0, 2.0, 4.0, 2.0, 5.0, 2.0, 2.0, 2.0, 2.0, 4.0, 2.0, 2.0, 4.95536838919658, 2.6126347639794085, 2.613579649082987, 1.8282900272194835, 1.8290489621257475, 1.826862727471515, 1.8268493531355567, 1.8207731811359855, 1.8199891400201156, 1.8182164539119614, 4.951778435860411, 1.0463161848050047, 1.0460624243780068, 1.0454042662663756, 1.0456062891305875, 1.0452164389692775, 1.0462624528236986, 1.0457625576875738, 1.045615791948242, 1.045722669317172, 1.0447285103442732, 1.0457986918584083, 1.044982505408744, 1.0452451820597142, 1.0458657981756727, 1.0457385073465961, 1.0458146472065692, 1.0459841727807773, 1.0456816077594053, 1.0448014825983614, 1.045697328470093, 15.161269253789799, 3.392132359823086, 11.210608669000866, 7.294246920733146, 6.525292525099104, 8.090381721233975, 2.613216195637384, 6.5298463691741615, 3.3944386115447336, 4.963952366507065, 4.1851924708783494, 3.399666099804637, 2.6145210146244717, 1.8321444169876702, 1.8267098611578867, 1.8258695070485083, 1.8180648781044342, 2.6097656169601486, 2.5999122509209918, 1.8263216534588873, 1.8207641475932768, 1.6098537191508817, 1.6095285167189204, 0.921549013339912, 0.9215344454481634, 0.9207831689701637, 0.9210098541947956, 0.9206625791995788, 0.920793910950948, 0.9212899550225055, 0.9206324869383408, 0.920533601854957, 0.9203136119745124, 0.9213073187722663, 0.9203011777638787, 0.9211018232083594, 0.9212878949166017, 0.9205541293387844, 0.92116325850942, 0.9211256615766752, 0.9209612209804232, 0.9204293457811811, 0.921065992080675, 0.9200596303466547, 0.9207113595643731, 0.9205054225492011, 0.9210860045380265, 0.9209755681465391, 0.9211562688643892, 0.9206168889936404, 0.9202177434747736, 0.9212196171209319, 0.9210410500841966, 4.397238074455963, 0.9211252201254101, 0.921076366185405, 3.6979674984941244, 0.9211542823336962, 2.3139196330551464, 2.3083764766696304, 1.6245259405483707, 1.6165662799376639, 4.398668376554907, 5.105207300446296, 2.9937303014989984, 3.6972588220632074, 3.0013753545081063, 2.3085857245692907, 3.0064532212602004, 4.386532586976296, 3.024379968534473, 1.61588467918434, 1.614743821964884, 0.933012031190501, 0.9282826902122082, 0.9376164414607687, 0.9260560836062238, 0.9259419684541939, 0.9306053124683533, 0.9284712634776194, 0.9275966749462333, 0.9253584434569344, 0.9251940028606824, 0.9238586127837364, 0.0002786747260156146, 0.0002786699698527369, 0.0002786451019154049, 0.0002785352209638928, 0.0002784889367045742, 0.00027848382722673985, 0.00027849056738898947, 0.00027836842912628965, 0.0002783192096350237, 0.00027828833534342893, 0.00027828246487953415, 0.0002783006741888374, 0.0002782600429688249, 0.00027823783848270436, 0.00027819821285141456, 0.0002781601635483928, 0.0002781400517739385, 0.00027813178963956807, 0.00027812225013573906, 0.00027812420695703726, 0.00027812325572446175, 0.00027811784728781796, 0.0002780825429702285, 0.0002780485432001712, 0.00027803941136744597, 0.00027801989751061055, 0.0002779979104490787, 0.00027798304404282666, 0.0002779254537048959, 0.0002778156542876046, 0.000279327760767762, 0.0002791016663735921, 0.00027906473137158746, 0.0003194444998472583, 0.0002789871651495703, 0.00030865004847035956, 0.000299033059953542, 0.00029140246247904786, 0.0002944614905516275, 0.0002988735246615866, 0.0002787946628543539, 0.0002965462118641885, 0.00029586561854542395, 0.0002932584259462274, 0.00028880516269863695, 0.00028155728685639426, 0.0002869743389495253, 0.0002856232625553706, 0.00027874264402150844, 0.0002848497745810859, 0.0002862710519393157, 0.0002824275287726485, 0.00028457883636549754, 0.00028355536447036, 0.0002822336947518264, 0.0002822838926537415, 0.0002833249487624898, 0.0002820589669167358, 0.0002805437621361895, 0.0002806475823772917, 0.00028050169047827693, 0.00028370503412160337, 0.00028205643935589226, 0.0002801909635629573, 0.0002810176390272517, 0.00028016892214527823], \"Total\": [5.0, 5.0, 6.0, 19.0, 2.0, 2.0, 6.0, 4.0, 9.0, 7.0, 10.0, 16.0, 10.0, 7.0, 5.0, 12.0, 2.0, 3.0, 4.0, 2.0, 4.0, 2.0, 5.0, 2.0, 2.0, 2.0, 2.0, 4.0, 2.0, 2.0, 5.198924109604896, 2.8458813833299135, 2.8470524231566063, 2.0611859694594346, 2.0620437175158597, 2.0621760667296196, 2.0630025191809502, 2.0617394550703096, 2.0610434317861603, 2.0609492609612765, 5.889683682483878, 1.2781180359367614, 1.2778844942602, 1.2772031822987204, 1.2774703959962435, 1.277006219894874, 1.2783536613669746, 1.277754184395499, 1.2775758265858406, 1.2777200515846339, 1.276507156989468, 1.2778352914939128, 1.2768746063429404, 1.2772240889354924, 1.2779869478195132, 1.2778726511215581, 1.2779686995099293, 1.278231834804667, 1.2778894456847998, 1.2768159098604304, 1.2779169262476935, 19.548121285265943, 4.32302122765591, 16.316124619495632, 10.318922754886165, 9.532044779419257, 12.489348971313543, 3.538856695533674, 10.227401737449233, 5.009473835972097, 7.965620979441118, 7.1792172338679, 5.708536403210293, 4.230689018757574, 2.7531804355660427, 2.7545861398582248, 2.7546202138480647, 2.751359142989687, 6.308016820488394, 6.997436596428894, 4.134983753391073, 4.134968630423004, 1.8756247736053875, 1.8753338584165251, 1.1853175291703753, 1.1853738232178033, 1.1844723797894114, 1.1847942790390336, 1.1843705093782448, 1.1845397142631695, 1.185247699053503, 1.1844444344590095, 1.1843519375483755, 1.184074579842947, 1.1853592963243458, 1.1840713309329205, 1.185115781997601, 1.1853841954692135, 1.184463735575737, 1.1852612314564086, 1.1852261698902526, 1.1850212297472313, 1.1843850416032387, 1.1852191629677067, 1.1839276078234398, 1.1847663052031652, 1.1845238442062789, 1.1852802578148574, 1.1851453130636336, 1.18537809619353, 1.1846968807557823, 1.18419692611369, 1.185520036067873, 1.1853040041667597, 6.997436596428894, 1.1854367974385196, 1.1853757550058182, 6.308016820488394, 1.185507282822626, 4.134968630423004, 4.134983753391073, 2.6604892178943547, 2.6588570655867745, 12.489348971313543, 16.316124619495632, 7.1792172338679, 10.227401737449233, 7.965620979441118, 5.708536403210293, 9.532044779419257, 19.548121285265943, 10.318922754886165, 4.230689018757574, 5.009473835972097, 2.751359142989687, 1.9692759578066805, 5.889683682483878, 1.9698989187919935, 1.9693964376827287, 4.32302122765591, 2.7546202138480647, 2.7545861398582248, 3.538856695533674, 1.9680773358970995, 1.9692826937526036, 1.1839276078234398, 1.1840091772073333, 1.183972996160492, 1.1840672463406003, 1.1840713309329205, 1.184074579842947, 1.184142476385471, 1.18419692611369, 1.1842985791868088, 1.1842660051373424, 1.1842935383770326, 1.1843768270844557, 1.184335947303173, 1.1843271350531748, 1.1843541579195813, 1.1843519375483755, 1.1843850416032387, 1.1844069545724107, 1.1843705093782448, 1.1844226422318862, 1.1844663011483902, 1.184450672582999, 1.1844986956323573, 1.1844444344590095, 1.184463735575737, 1.1845148475544756, 1.1844723797894114, 1.1845238442062789, 1.1845397142631695, 1.1847138214043929, 1.2762711327572764, 1.276507156989468, 1.2765067390301796, 19.548121285265943, 1.2765866156087762, 16.316124619495632, 9.532044779419257, 5.009473835972097, 7.1792172338679, 12.489348971313543, 1.2767673052230273, 10.227401737449233, 10.318922754886165, 7.965620979441118, 5.889683682483878, 1.967086264691652, 5.198924109604896, 4.134983753391073, 1.2768159098604304, 4.134968630423004, 6.997436596428894, 2.6588570655867745, 5.708536403210293, 4.32302122765591, 2.751359142989687, 2.8458813833299135, 4.230689018757574, 2.7531804355660427, 1.8753338584165251, 2.0611859694594346, 1.9681423628519528, 6.308016820488394, 3.538856695533674, 1.8756247736053875, 2.8470524231566063, 1.9680773358970995], \"Category\": [\"Default\", \"Default\", \"Default\", \"Default\", \"Default\", \"Default\", \"Default\", \"Default\", \"Default\", \"Default\", \"Default\", \"Default\", \"Default\", \"Default\", \"Default\", \"Default\", \"Default\", \"Default\", \"Default\", \"Default\", \"Default\", \"Default\", \"Default\", \"Default\", \"Default\", \"Default\", \"Default\", \"Default\", \"Default\", \"Default\", \"Topic1\", \"Topic1\", \"Topic1\", \"Topic1\", \"Topic1\", \"Topic1\", \"Topic1\", \"Topic1\", \"Topic1\", \"Topic1\", \"Topic1\", \"Topic1\", \"Topic1\", \"Topic1\", \"Topic1\", \"Topic1\", \"Topic1\", \"Topic1\", \"Topic1\", \"Topic1\", \"Topic1\", \"Topic1\", \"Topic1\", \"Topic1\", \"Topic1\", \"Topic1\", \"Topic1\", \"Topic1\", \"Topic1\", \"Topic1\", \"Topic1\", \"Topic1\", \"Topic1\", \"Topic1\", \"Topic1\", \"Topic1\", \"Topic1\", \"Topic1\", \"Topic1\", \"Topic1\", \"Topic1\", \"Topic1\", \"Topic1\", \"Topic1\", \"Topic1\", \"Topic1\", \"Topic1\", \"Topic1\", \"Topic1\", \"Topic1\", \"Topic1\", \"Topic1\", \"Topic2\", \"Topic2\", \"Topic2\", \"Topic2\", \"Topic2\", \"Topic2\", \"Topic2\", \"Topic2\", \"Topic2\", \"Topic2\", \"Topic2\", \"Topic2\", \"Topic2\", \"Topic2\", \"Topic2\", \"Topic2\", \"Topic2\", \"Topic2\", \"Topic2\", \"Topic2\", \"Topic2\", \"Topic2\", \"Topic2\", \"Topic2\", \"Topic2\", \"Topic2\", \"Topic2\", \"Topic2\", \"Topic2\", \"Topic2\", \"Topic2\", \"Topic2\", \"Topic2\", \"Topic2\", \"Topic2\", \"Topic2\", \"Topic2\", \"Topic2\", \"Topic2\", \"Topic2\", \"Topic2\", \"Topic2\", \"Topic2\", \"Topic2\", \"Topic2\", \"Topic2\", \"Topic2\", \"Topic2\", \"Topic2\", \"Topic2\", \"Topic2\", \"Topic2\", \"Topic2\", \"Topic2\", \"Topic2\", \"Topic2\", \"Topic2\", \"Topic2\", \"Topic2\", \"Topic2\", \"Topic2\", \"Topic2\", \"Topic2\", \"Topic3\", \"Topic3\", \"Topic3\", \"Topic3\", \"Topic3\", \"Topic3\", \"Topic3\", \"Topic3\", \"Topic3\", \"Topic3\", \"Topic3\", \"Topic3\", \"Topic3\", \"Topic3\", \"Topic3\", \"Topic3\", \"Topic3\", \"Topic3\", \"Topic3\", \"Topic3\", \"Topic3\", \"Topic3\", \"Topic3\", \"Topic3\", \"Topic3\", \"Topic3\", \"Topic3\", \"Topic3\", \"Topic3\", \"Topic3\", \"Topic3\", \"Topic3\", \"Topic3\", \"Topic3\", \"Topic3\", \"Topic3\", \"Topic3\", \"Topic3\", \"Topic3\", \"Topic3\", \"Topic3\", \"Topic3\", \"Topic3\", \"Topic3\", \"Topic3\", \"Topic3\", \"Topic3\", \"Topic3\", \"Topic3\", \"Topic3\", \"Topic3\", \"Topic3\", \"Topic3\", \"Topic3\", \"Topic3\", \"Topic3\", \"Topic3\", \"Topic3\", \"Topic3\", \"Topic3\", \"Topic3\", \"Topic3\", \"Topic3\", \"Topic3\", \"Topic3\", \"Topic3\"], \"logprob\": [30.0, 29.0, 28.0, 27.0, 26.0, 25.0, 24.0, 23.0, 22.0, 21.0, 20.0, 19.0, 18.0, 17.0, 16.0, 15.0, 14.0, 13.0, 12.0, 11.0, 10.0, 9.0, 8.0, 7.0, 6.0, 5.0, 4.0, 3.0, 2.0, 1.0, -3.9287, -4.5688, -4.5685, -4.9258, -4.9254, -4.9266, -4.9266, -4.9299, -4.9304, -4.9313, -3.9294, -5.4839, -5.4842, -5.4848, -5.4846, -5.485, -5.484, -5.4844, -5.4846, -5.4845, -5.4854, -5.4844, -5.4852, -5.4849, -5.4843, -5.4845, -5.4844, -5.4842, -5.4845, -5.4854, -5.4845, -2.8104, -4.3077, -3.1123, -3.5421, -3.6535, -3.4385, -4.5686, -3.6528, -4.3071, -3.927, -4.0976, -4.3055, -4.5681, -4.9237, -4.9267, -4.9271, -4.9314, -4.5699, -4.5737, -4.9269, -4.9299, -4.5865, -4.5867, -5.1443, -5.1443, -5.1451, -5.1449, -5.1453, -5.1451, -5.1446, -5.1453, -5.1454, -5.1456, -5.1446, -5.1457, -5.1448, -5.1446, -5.1454, -5.1447, -5.1448, -5.1449, -5.1455, -5.1448, -5.1459, -5.1452, -5.1454, -5.1448, -5.1449, -5.1447, -5.1453, -5.1457, -5.1447, -5.1449, -3.5816, -5.1448, -5.1448, -3.7548, -5.1447, -4.2237, -4.2261, -4.5774, -4.5823, -3.5813, -3.4323, -3.9661, -3.755, -3.9635, -4.226, -3.9618, -3.5841, -3.9559, -4.5827, -4.5834, -5.1319, -5.137, -5.127, -5.1394, -5.1395, -5.1345, -5.1368, -5.1378, -5.1402, -5.1404, -5.1418, -5.3444, -5.3444, -5.3445, -5.3449, -5.3451, -5.3451, -5.3451, -5.3455, -5.3457, -5.3458, -5.3458, -5.3458, -5.3459, -5.346, -5.3461, -5.3463, -5.3463, -5.3464, -5.3464, -5.3464, -5.3464, -5.3464, -5.3465, -5.3467, -5.3467, -5.3468, -5.3468, -5.3469, -5.3471, -5.3475, -5.3421, -5.3429, -5.343, -5.2079, -5.3433, -5.2423, -5.2739, -5.2998, -5.2893, -5.2744, -5.344, -5.2823, -5.2846, -5.2934, -5.3087, -5.3341, -5.3151, -5.3198, -5.3442, -5.3225, -5.3175, -5.331, -5.3235, -5.3271, -5.3317, -5.3315, -5.3279, -5.3323, -5.3377, -5.3374, -5.3379, -5.3265, -5.3324, -5.339, -5.336, -5.3391], \"loglift\": [30.0, 29.0, 28.0, 27.0, 26.0, 25.0, 24.0, 23.0, 22.0, 21.0, 20.0, 19.0, 18.0, 17.0, 16.0, 15.0, 14.0, 13.0, 12.0, 11.0, 10.0, 9.0, 8.0, 7.0, 6.0, 5.0, 4.0, 3.0, 2.0, 1.0, 0.439, 0.4015, 0.4014, 0.3671, 0.3671, 0.3658, 0.3654, 0.3627, 0.3626, 0.3617, 0.3135, 0.2869, 0.2868, 0.2867, 0.2867, 0.2867, 0.2866, 0.2866, 0.2866, 0.2866, 0.2866, 0.2866, 0.2866, 0.2865, 0.2865, 0.2865, 0.2865, 0.2864, 0.2864, 0.2864, 0.2864, 0.2328, 0.2445, 0.1117, 0.1401, 0.108, 0.0528, 0.1837, 0.0383, 0.0978, 0.014, -0.0527, -0.0313, 0.0057, 0.0797, 0.0762, 0.0757, 0.0726, -0.3956, -0.5031, -0.3302, -0.3333, 0.8008, 0.8007, 0.7018, 0.7018, 0.7017, 0.7017, 0.7017, 0.7017, 0.7016, 0.7016, 0.7016, 0.7015, 0.7015, 0.7015, 0.7015, 0.7015, 0.7015, 0.7015, 0.7015, 0.7015, 0.7014, 0.7014, 0.7014, 0.7014, 0.7014, 0.7014, 0.7014, 0.7014, 0.7014, 0.7013, 0.7013, 0.7013, 0.489, 0.7013, 0.7013, 0.4195, 0.7013, 0.373, 0.3706, 0.4603, 0.456, -0.09, -0.2083, 0.0789, -0.0639, -0.0225, 0.0482, -0.2003, -0.5408, -0.2737, -0.0089, -0.1786, -0.1279, 0.2015, -0.8841, 0.1987, 0.1989, -0.5823, -0.1339, -0.1349, -0.3878, 0.1987, 0.1967, 0.5029, 0.5028, 0.5028, 0.5023, 0.5021, 0.5021, 0.5021, 0.5016, 0.5013, 0.5012, 0.5012, 0.5012, 0.5011, 0.501, 0.5008, 0.5007, 0.5006, 0.5005, 0.5005, 0.5005, 0.5005, 0.5005, 0.5003, 0.5002, 0.5002, 0.5001, 0.5, 0.4999, 0.4997, 0.4992, 0.4301, 0.4291, 0.429, -2.1646, 0.4287, -2.0183, -1.5124, -0.8949, -1.2443, -1.7832, 0.4278, -1.5912, -1.6024, -1.3524, -1.0658, 0.0055, -0.9474, -0.7231, 0.4276, -0.7258, -1.2469, -0.2928, -1.0493, -0.7749, -0.3277, -0.3613, -0.7541, -0.3289, 0.0496, -0.0445, 0.0012, -1.1522, -0.58, 0.0482, -0.3662, 0.0]}, \"token.table\": {\"Topic\": [2, 2, 2, 1, 2, 2, 1, 2, 2, 1, 2, 1, 1, 1, 2, 2, 1, 2, 1, 2, 1, 2, 1, 1, 2, 1, 2, 1, 2, 2, 1, 2, 2, 2, 2, 2, 2, 2, 2, 2, 2, 1, 2, 1, 2, 1, 2, 1, 1, 1, 2, 1, 1, 1, 2, 1, 2, 1, 1, 2, 2, 2, 2, 2, 1, 2, 2, 2, 1, 2, 2, 1, 2, 1, 2, 2, 2, 1, 1, 2, 1, 2, 1, 2, 1, 2, 1, 1, 2, 2, 1, 2, 1, 2, 1, 2, 1, 2, 1, 1, 1, 1, 1, 2, 1, 1, 2, 1, 1, 2, 1, 2, 2, 2, 1, 1, 2, 2, 2, 1, 2, 1, 2, 2, 1, 2, 1, 1, 2, 1, 2, 1, 2, 2, 1, 1, 2, 2, 2, 2, 1, 1, 2, 2, 2, 2, 1, 2, 2], \"Freq\": [0.8442620942701854, 0.8446462379895199, 0.8437994119987378, 0.4755852885895962, 0.6341137181194616, 0.8436823218869487, 0.7825433397866883, 0.8446138579536034, 0.8436557929755056, 0.6741796999304872, 0.30644531815022147, 0.782797005029728, 0.7829607801322512, 0.7835325694780733, 0.8437208234210658, 0.8437783864790152, 0.7823306952395024, 0.8437054978453573, 0.5080933264151389, 0.5080933264151389, 0.7269134620596118, 0.3634567310298059, 0.78338795199761, 0.7264325919811384, 0.3632162959905692, 0.6844358107463799, 0.39110617756935995, 0.97038226810521, 1.0663113582977124, 0.8440483119820991, 0.783387695497465, 0.8435116822797825, 0.8442732341223151, 0.844454142675248, 0.84420977022458, 0.8443816598062996, 0.8442932145535766, 0.8436143524760145, 0.8443550179128477, 0.8440977740753786, 0.8436083455661121, 0.6939591184072679, 0.23131970613575595, 0.37610145086129826, 0.7522029017225965, 0.7091043531441149, 0.47273623542940996, 0.7825734714455284, 0.9700546764439718, 0.7830815421418403, 0.8445437144501319, 0.9699115411623748, 0.7826231463081427, 0.5571638062615005, 0.4178728546961254, 0.3758707207960235, 0.751741441592047, 0.7832280760238599, 0.5077991103930494, 0.5077991103930494, 0.8436157273031477, 0.8442776806636322, 0.8443852538201042, 0.8443420351194485, 0.8489420263553664, 0.16978840527107328, 0.8436126862907172, 0.8444929727142668, 0.7826440531787818, 0.8436260660382702, 0.8442274928546307, 0.6405457977333318, 0.3202728988666659, 0.9698492928257945, 0.8443043973521883, 0.8444048851035182, 0.8442639229591322, 0.7824917780720891, 0.4287284291408992, 0.571637905521199, 0.4836796064872205, 0.4836796064872205, 0.48367783751503574, 0.48367783751503574, 0.7831622580889686, 0.8435207564638965, 0.7825234797822641, 0.5081101142522809, 0.5081101142522809, 0.8443303781052154, 0.5078008473295786, 0.5078008473295786, 0.6783653842825207, 0.290728021835366, 0.5083661138555882, 0.5083661138555882, 0.507640260350634, 0.507640260350634, 0.7829479639970258, 1.054154968500393, 0.7833389350734512, 0.9617374469388026, 0.7824003510497977, 0.84386673833118, 0.7825505922850169, 0.7260529019374694, 0.3630264509687347, 0.783198260827836, 0.7260618831484201, 0.36303094157421006, 0.9703151630342791, 0.8437258114322664, 0.8443258742757316, 0.8443200182994152, 0.7827324055374257, 0.507769782084424, 0.507769782084424, 0.8436958650636317, 0.8442577615678899, 0.969460764785705, 0.8440857040180152, 0.7825403076743596, 0.84366541957561, 0.8440283834009419, 0.8477314166991403, 0.2825771388997134, 0.7822561394557088, 0.7343649932398322, 0.31472785424564237, 0.5255287499459403, 0.35035249996396023, 0.7673371666312502, 0.20462324443500005, 0.843570911718609, 1.0537213770984295, 0.6276974529549871, 0.3766184717729923, 0.8445413971581399, 0.8442210808091213, 0.8443436180549622, 0.7824806049124279, 0.5988652896952091, 0.3992435264634727, 0.8445466278123422, 0.8445880481759888, 1.0664767721352502, 0.9704266077211195, 0.8442390048105028, 0.8443613005245391], \"Term\": [\"10%\", \"2025,\", \"204\", \"a\", \"a\", \"about\", \"activities\", \"allows\", \"analyzed\", \"and\", \"and\", \"applications\", \"areas\", \"argues\", \"article\", \"articles.\", \"at\", \"attention\", \"be\", \"be\", \"been\", \"been\", \"beneficial\", \"benefits\", \"benefits\", \"blockchain\", \"blockchain\", \"but\", \"by\", \"capabilities\", \"challenges.\", \"content\", \"control\", \"could\", \"create\", \"credit\", \"cybersecurity\", \"databases\", \"decentralized\", \"direct\", \"down\", \"education\", \"education\", \"education,\", \"education,\", \"education.\", \"education.\", \"educational\", \"existing\", \"expand\", \"expected\", \"explores\", \"followed\", \"for\", \"for\", \"found\", \"found\", \"foundational\", \"future\", \"future\", \"gaining\", \"gdp.\", \"global\", \"grading\", \"has\", \"has\", \"have\", \"higher\", \"highlights\", \"however,\", \"immutability\", \"in\", \"in\", \"including\", \"industries.\", \"institutions.\", \"intermediaries.\", \"involved\", \"is\", \"is\", \"it\", \"it\", \"its\", \"its\", \"knowledge\", \"lacks\", \"learning,\", \"need\", \"need\", \"network\", \"new\", \"new\", \"of\", \"of\", \"offers\", \"offers\", \"on\", \"on\", \"other\", \"paper\", \"policymakers,\", \"potential\", \"preferred\", \"public\", \"reporting\", \"research\", \"research\", \"researchers\", \"review\", \"review\", \"reviews\", \"searched\", \"sectors.\", \"security,\", \"settings.\", \"since\", \"since\", \"strategic\", \"strong\", \"student\", \"students\", \"study.\", \"subject\", \"suitable\", \"systematic\", \"systematic\", \"teaching,\", \"technology\", \"technology\", \"that\", \"that\", \"the\", \"the\", \"they\", \"this\", \"to\", \"to\", \"transfer\", \"transparency,\", \"trusted\", \"universities.\", \"use\", \"use\", \"used\", \"utilized\", \"various\", \"with\", \"without\", \"world's\"]}, \"R\": 30, \"lambda.step\": 0.01, \"plot.opts\": {\"xlab\": \"PC1\", \"ylab\": \"PC2\"}, \"topic.order\": [1, 2, 3]};\n",
       "\n",
       "function LDAvis_load_lib(url, callback){\n",
       "  var s = document.createElement('script');\n",
       "  s.src = url;\n",
       "  s.async = true;\n",
       "  s.onreadystatechange = s.onload = callback;\n",
       "  s.onerror = function(){console.warn(\"failed to load library \" + url);};\n",
       "  document.getElementsByTagName(\"head\")[0].appendChild(s);\n",
       "}\n",
       "\n",
       "if(typeof(LDAvis) !== \"undefined\"){\n",
       "   // already loaded: just create the visualization\n",
       "   !function(LDAvis){\n",
       "       new LDAvis(\"#\" + \"ldavis_el953229842395575367048893499\", ldavis_el953229842395575367048893499_data);\n",
       "   }(LDAvis);\n",
       "}else if(typeof define === \"function\" && define.amd){\n",
       "   // require.js is available: use it to load d3/LDAvis\n",
       "   require.config({paths: {d3: \"https://d3js.org/d3.v5\"}});\n",
       "   require([\"d3\"], function(d3){\n",
       "      window.d3 = d3;\n",
       "      LDAvis_load_lib(\"https://cdn.jsdelivr.net/gh/bmabey/pyLDAvis@3.4.0/pyLDAvis/js/ldavis.v3.0.0.js\", function(){\n",
       "        new LDAvis(\"#\" + \"ldavis_el953229842395575367048893499\", ldavis_el953229842395575367048893499_data);\n",
       "      });\n",
       "    });\n",
       "}else{\n",
       "    // require.js not available: dynamically load d3 & LDAvis\n",
       "    LDAvis_load_lib(\"https://d3js.org/d3.v5.js\", function(){\n",
       "         LDAvis_load_lib(\"https://cdn.jsdelivr.net/gh/bmabey/pyLDAvis@3.4.0/pyLDAvis/js/ldavis.v3.0.0.js\", function(){\n",
       "                 new LDAvis(\"#\" + \"ldavis_el953229842395575367048893499\", ldavis_el953229842395575367048893499_data);\n",
       "            })\n",
       "         });\n",
       "}\n",
       "</script>"
      ],
      "text/plain": [
       "<IPython.core.display.HTML object>"
      ]
     },
     "execution_count": 29,
     "metadata": {},
     "output_type": "execute_result"
    }
   ],
   "source": [
    "# 輸出主題模型分析結果\n",
    "import pyLDAvis.gensim\n",
    "pyLDAvis.enable_notebook()\n",
    "vis = pyLDAvis.gensim.prepare(lda_model, corpus, dictionary)\n",
    "pyLDAvis.display(vis)"
   ]
  },
  {
   "cell_type": "code",
   "execution_count": null,
   "id": "7a8f6d17",
   "metadata": {},
   "outputs": [],
   "source": []
  }
 ],
 "metadata": {
  "kernelspec": {
   "display_name": "Python 3 (ipykernel)",
   "language": "python",
   "name": "python3"
  },
  "language_info": {
   "codemirror_mode": {
    "name": "ipython",
    "version": 3
   },
   "file_extension": ".py",
   "mimetype": "text/x-python",
   "name": "python",
   "nbconvert_exporter": "python",
   "pygments_lexer": "ipython3",
   "version": "3.9.13"
  }
 },
 "nbformat": 4,
 "nbformat_minor": 5
}
