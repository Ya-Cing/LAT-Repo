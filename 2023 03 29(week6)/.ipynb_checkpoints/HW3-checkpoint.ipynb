{
 "cells": [
  {
   "cell_type": "code",
   "execution_count": 46,
   "id": "00e465dc",
   "metadata": {},
   "outputs": [],
   "source": [
    "import openai\n",
    "import pandas as pd"
   ]
  },
  {
   "cell_type": "code",
   "execution_count": 47,
   "id": "57e0d96d",
   "metadata": {},
   "outputs": [],
   "source": [
    "with open('005.txt', 'r', encoding='UTF-8') as fh:\n",
    "    art1 = fh.read()\n",
    "    itemlist = art1.split(',')"
   ]
  },
  {
   "cell_type": "code",
   "execution_count": 48,
   "id": "aedaea55",
   "metadata": {},
   "outputs": [],
   "source": [
    "with open('006.txt', 'r', encoding='UTF-8') as fh:\n",
    "    art2 = fh.read()\n",
    "    itemlist = art2.split(',')"
   ]
  },
  {
   "cell_type": "code",
   "execution_count": 49,
   "id": "b6d44e49",
   "metadata": {},
   "outputs": [],
   "source": [
    "with open('007.txt', 'r', encoding='UTF-8') as fh:\n",
    "    art3 = fh.read()\n",
    "    itemlist = art3.split(',')"
   ]
  },
  {
   "cell_type": "code",
   "execution_count": 50,
   "id": "07eee7d3",
   "metadata": {},
   "outputs": [],
   "source": [
    "itemlist = str(itemlist)"
   ]
  },
  {
   "cell_type": "code",
   "execution_count": 51,
   "id": "16195235",
   "metadata": {},
   "outputs": [],
   "source": [
    "keyfile = open(\"key.txt\", \"r\")\n",
    "key = keyfile.readline()\n",
    "openai.api_key = key"
   ]
  },
  {
   "cell_type": "code",
   "execution_count": 52,
   "id": "dd6a59df",
   "metadata": {},
   "outputs": [],
   "source": [
    "data = art1 + art2 + art3\n",
    "data = []\n",
    "start = 0\n",
    "end = 0\n",
    "while end < len(itemlist):\n",
    "    end = start + 1\n",
    "    while end < len(itemlist) and len(itemlist[start:end]) < 800:\n",
    "        end += 1\n",
    "    data.append(itemlist[start:end])\n",
    "    start = end\n",
    "    \n",
    "# 使用 GPT-3.5 模型進行對話，生成摘要\n",
    "for i in range(len(data)):\n",
    "    data[i] = chatgptfn(data[i])"
   ]
  },
  {
   "cell_type": "code",
   "execution_count": 53,
   "id": "f33a1900",
   "metadata": {
    "scrolled": true
   },
   "outputs": [
    {
     "name": "stdout",
     "output_type": "stream",
     "text": [
      "The study aimed to improve the health and weight control behaviors of primary school students through a four-week educational intervention program held in a hospital setting. The program included topics such as nutrition, exercise, and weight control knowledge. Results showed positive developments in the students' understanding of weight control and dietary behavior, but no significant differences were observed regarding exercise behavior and body posture. The study suggests designing more intensive and motivating educational programs to enhance learning outcomes in weight control education.\n",
      "The prevalence of obesity in Taiwan has steadily increased over the years. In adults, the prevalence of obesity is 17.5% for males and 23.4% for females. Among children aged 3-19 years old, nearly 30% of males and 23% of females are overweight or obese. Three large-scale national nutrition surveys have been conducted in Taiwan since 1980, with notable changes in body weight, height, and BMI observed in children from 1988-97. Both male and female students' average BMI has increased over the past decade, with females showing a more significant increase. The prevalence of obesity is higher in urban areas, and blood biochemistry values in children also indicate a trend towards being overweight. The third national nutrition and health survey conducted from 1993-1997 found that the average prevalence of obesity in Taiwan was 20.5%.\n",
      "The prevalence of childhood obesity in Taiwan is increasing rapidly, especially in the Taitung region, where the rate of obesity among children is much higher than the national average. Childhood obesity can cause a wide range of negative health effects, including respiratory problems, liver function impairment, and metabolic disorders. Children who are obese also tend to have poorer social and psychological adaptation, which can affect their self-esteem and lead to depression and eating disorders. Early prevention and intervention are essential to addressing this growing public health concern.\n",
      "The article discusses various studies on the effectiveness of interventions for childhood obesity. The main goals of such interventions are to achieve significant weight loss and teach children appropriate diet and exercise habits for maintaining a healthy weight. Studies have shown that childhood obesity negatively affects overall self-esteem but interventions can lead to improved self-esteem and family/school support positively impacts weight loss success. Interventions that include nutrition education, exercise, and monitoring of diet and physical activity have been effective in the short-term, but long-term success requires cooperation between schools, children, and parents. These interventions can improve nutritional knowledge, attitudes and behaviors, and improve blood chemistry.\n",
      "This passage discusses a study on the effects of nutrition education on overweight primary school children. The study found that nutrition education improved the children's knowledge, attitudes, behaviors, BMI, blood pressure, and triglyceride levels. The study used a combination of healthcare resources, media strategies, and social support to help children control their weight through education on diet and exercise. The study had 12 participants recruited through various methods, and they were given four weight control courses. The study used a questionnaire as its primary research tool, which included questions on personal information, weight control knowledge, and weight control behaviors.\n",
      "The study focuses on weight control education intervention for overweight and obese children. The study involves a four-part weight control education course that is each two hours long with weekly follow-up calls and the use of handbooks to record diets and exercise behavior. The education course includes various teaching methods such as drama, games, and discussions to increase the children's engagement and understanding. The second part of the study includes a satisfaction questionnaire that evaluates the course's arrangement, content, timing, and staff service attitude.\n",
      "The text describes a four-week weight control education program, which includes lessons on nutrition, exercise, and traditional Chinese medicine treatments. The lessons are delivered through various teaching methods, such as lectures, demonstrations, and group activities. The program also includes pre- and post-tests to evaluate the effectiveness and satisfaction of the intervention. Additionally, a day trip to a zoo is organized to encourage physical activity and long-term weight control.\n",
      "This study evaluated the effectiveness of a weight control education intervention program. Participants were assessed for their physical activity, body position value, and diet behaviors before and after the 4-week course. The study found a significant improvement in participants' weight control knowledge and diet behaviors, but not in their body weight or body fat. Overall, the participants were most satisfied with the first session and least satisfied with the third session. The \"Super Monopoly\" game and physical activity were among the most liked programs. The study provides valuable insights into developing effective weight control education programs.\n",
      "The study evaluated the effectiveness of a weight control education program on children in a school setting. The program included dietary and physical activity interventions, and feedback from healthcare professionals. The feedback from the participants was positive, with high satisfaction ratings for the program and feedback provided by the healthcare professionals. The study found positive changes in weight control and dietary behaviors, but not in physical activity or posture. The study suggests that the program was effective in promoting positive changes in weight control behaviors and offers recommendations for future interventions. Overall, the weight control education program appeared to be beneficial in promoting healthier lifestyles among children.\n",
      "This report discusses the findings of a weight control education intervention program. The program lasted for a month, with varying levels of satisfaction among the participants during different weeks of the program. The first week, which utilized fun and game-like activities, received the highest satisfaction scores from the participants. However, week three, which focused on physical activity, received slightly lower scores, likely due to the complexity of the exercises. The report also provides suggestions for implementing future weight control education intervention programs, such as utilizing available resources effectively, conducting early campus promotions, and increasing motivation and incentives for participants.\n",
      "The article outlines several suggestions for improving the effectiveness of weight control intervention programs for adolescents. These include a focus on behavioral changes, screening for eating disorders, creating age-specific groups, increasing peer support, using health-focused language in marketing, effective promotion, and arranging intensive and frequent intervention sessions. The suggestions are based on the evaluation of a weight control intervention program conducted in Taiwan.\n",
      "The assistant has difficulty providing a summary because the text appears to be incomplete and lacks context.\n"
     ]
    }
   ],
   "source": [
    "for d in data:\n",
    "    print(d)"
   ]
  },
  {
   "cell_type": "code",
   "execution_count": 54,
   "id": "28e41dd4",
   "metadata": {},
   "outputs": [],
   "source": [
    "def chatgptfn(sub_list):\n",
    "    result = ''\n",
    "    response = openai.ChatCompletion.create(\n",
    "        model=\"gpt-3.5-turbo\",\n",
    "        messages=[\n",
    "            {\"role\": \"system\", \"content\": \"You are an assistant\"},\n",
    "            {\"role\": \"user\", \"content\": f\"{sub_list} :give me a summary\"}\n",
    "        ]\n",
    "    )\n",
    "    for choice in response.choices:\n",
    "        result += choice.message.content\n",
    "    return result\n"
   ]
  },
  {
   "cell_type": "code",
   "execution_count": null,
   "id": "eb9a0c15",
   "metadata": {},
   "outputs": [],
   "source": [
    "# 使用 GPT-3.5 模型進行對話，生成摘要\n",
    "for i in range(len(data)):\n",
    "    data[i] = chatgptfn(data[i])\n",
    "\n",
    "# 將生成的摘要資料存儲在一個列表中\n",
    "summaries = []\n",
    "for d in data:\n",
    "    summaries.append(chatgptfn(d))\n",
    "\n",
    "# 將摘要資料合併回原始資料列表\n",
    "start = 0\n",
    "for i, summary in enumerate(summaries):\n",
    "    end = start + len(data[i])\n",
    "    itemlist[start:end] = summary\n",
    "    start = end"
   ]
  },
  {
   "cell_type": "code",
   "execution_count": null,
   "id": "83edc480",
   "metadata": {},
   "outputs": [],
   "source": [
    "import gensim\n",
    "from gensim import corpora\n",
    "from pprint import pprint"
   ]
  },
  {
   "cell_type": "code",
   "execution_count": null,
   "id": "085322b5",
   "metadata": {},
   "outputs": [],
   "source": [
    "# 創建詞袋\n",
    "texts = [[word for word in document.lower().split()] for document in data]\n",
    "dictionary = corpora.Dictionary(texts)\n",
    "corpus = [dictionary.doc2bow(text) for text in texts]"
   ]
  },
  {
   "cell_type": "code",
   "execution_count": null,
   "id": "e01f7ee4",
   "metadata": {},
   "outputs": [],
   "source": [
    "# 訓練 LDA 模型\n",
    "lda_model = gensim.models.ldamodel.LdaModel(corpus=corpus, id2word=dictionary, \n",
    "                                            num_topics=5, random_state=100, update_every=1, \n",
    "                                            chunksize=100, passes=10, alpha='auto', per_word_topics=True)"
   ]
  },
  {
   "cell_type": "code",
   "execution_count": null,
   "id": "47666a5f",
   "metadata": {},
   "outputs": [],
   "source": [
    "# 輸出主題模型分析結果\n",
    "import pyLDAvis.gensim\n",
    "pyLDAvis.enable_notebook()\n",
    "vis = pyLDAvis.gensim.prepare(lda_model, corpus, dictionary)\n",
    "pyLDAvis.display(vis)"
   ]
  },
  {
   "cell_type": "code",
   "execution_count": null,
   "id": "4864b2b3",
   "metadata": {},
   "outputs": [],
   "source": []
  }
 ],
 "metadata": {
  "kernelspec": {
   "display_name": "Python 3 (ipykernel)",
   "language": "python",
   "name": "python3"
  },
  "language_info": {
   "codemirror_mode": {
    "name": "ipython",
    "version": 3
   },
   "file_extension": ".py",
   "mimetype": "text/x-python",
   "name": "python",
   "nbconvert_exporter": "python",
   "pygments_lexer": "ipython3",
   "version": "3.9.13"
  }
 },
 "nbformat": 4,
 "nbformat_minor": 5
}
