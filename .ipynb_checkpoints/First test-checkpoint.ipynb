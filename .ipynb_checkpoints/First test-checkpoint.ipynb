{
 "cells": [
  {
   "cell_type": "markdown",
   "id": "f9ec638e",
   "metadata": {},
   "source": [
    "# 把CSV檔匯入"
   ]
  },
  {
   "cell_type": "code",
   "execution_count": 6,
   "id": "b0fc20b1",
   "metadata": {
    "scrolled": true
   },
   "outputs": [],
   "source": [
    "import pandas as pd\n"
   ]
  },
  {
   "cell_type": "code",
   "execution_count": 9,
   "id": "bfbe9791",
   "metadata": {},
   "outputs": [
    {
     "name": "stdout",
     "output_type": "stream",
     "text": [
      "            商號            市招          店家電話             店家地址  \\\n",
      "0         富發商行        Coco都可  03-2812-2089    桃園市中壢區新明路 17號   \n",
      "1        元二冷飲店          清心福全    03-4915380    桃園市中壢區新明路271號   \n",
      "2     元晶事業有限公司      85℃中壢元化店   03-4256-460    桃園市中壢區新生路223號   \n",
      "3   早安美芝城中壢六和店    早安美芝城中壢六和店   03-4264-932  桃園市中壢區金華里六和路42號   \n",
      "4     統一超商 金權店      統一超商 金權店    03-2813118  桃園市中壢區中央西路2段49號   \n",
      "..         ...           ...           ...              ...   \n",
      "56      蕃茄村義勇店      蕃茄村桃園義勇店    03-3648967    桃園市八德區義勇街102號   \n",
      "57         旭胜活  85oC麵包房南崁南竹店   03-222-5151   桃園市蘆竹區南竹路一段41號   \n",
      "58       小玲冰?室         小玲冰?室    03-3889526  桃園市大溪區民權東路路102號   \n",
      "59   川億通事業有限公司          清心福全    03-4737979    桃園市觀音區中正路303號   \n",
      "60       世界豆漿店         世界豆漿店    03-4360728   桃園市中壢區新中北路206號   \n",
      "\n",
      "               食品業者登錄字號 衛生分級  \n",
      "0   H-101223248-00001-8    優  \n",
      "1   H-128589992-06067-6    優  \n",
      "2   H-127617149-00303-8    優  \n",
      "3   H-200052263-00000-4    良  \n",
      "4   H-122555003-40247-4    優  \n",
      "..                  ...  ...  \n",
      "56  H-128757667-00369-1    優  \n",
      "57  H-127617149-00297-0    優  \n",
      "58  H-200037148-00000-9    優  \n",
      "59  H-128589992-05886-4    優  \n",
      "60  H-198134307-00000-0    優  \n",
      "\n",
      "[61 rows x 6 columns]\n"
     ]
    }
   ],
   "source": [
    "#load data into a DataFrame object:\n",
    "df =  pd.read_csv('First Test.csv')\n",
    "\n",
    "print(df) "
   ]
  },
  {
   "cell_type": "code",
   "execution_count": null,
   "id": "603b27ca",
   "metadata": {},
   "outputs": [],
   "source": []
  }
 ],
 "metadata": {
  "kernelspec": {
   "display_name": "Python 3 (ipykernel)",
   "language": "python",
   "name": "python3"
  },
  "language_info": {
   "codemirror_mode": {
    "name": "ipython",
    "version": 3
   },
   "file_extension": ".py",
   "mimetype": "text/x-python",
   "name": "python",
   "nbconvert_exporter": "python",
   "pygments_lexer": "ipython3",
   "version": "3.9.7"
  }
 },
 "nbformat": 4,
 "nbformat_minor": 5
}
