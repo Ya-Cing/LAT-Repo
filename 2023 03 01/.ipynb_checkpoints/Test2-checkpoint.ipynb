{
 "cells": [
  {
   "cell_type": "markdown",
   "id": "45f8a192",
   "metadata": {},
   "source": [
    "嘗試1"
   ]
  },
  {
   "cell_type": "code",
   "execution_count": 1,
   "id": "17087b3c",
   "metadata": {},
   "outputs": [],
   "source": [
    "import pandas as pd"
   ]
  },
  {
   "cell_type": "code",
   "execution_count": 3,
   "id": "fceaf368",
   "metadata": {},
   "outputs": [
    {
     "data": {
      "text/plain": [
       "{'encoding': 'Big5', 'confidence': 0.99, 'language': 'Chinese'}"
      ]
     },
     "execution_count": 3,
     "metadata": {},
     "output_type": "execute_result"
    }
   ],
   "source": [
    "import chardet\n",
    "with open(\"TEST2.csv\", 'rb') as rawdata:\n",
    "    result = chardet.detect(rawdata.read(100000))\n",
    "result "
   ]
  },
  {
   "cell_type": "code",
   "execution_count": 4,
   "id": "8c048078",
   "metadata": {},
   "outputs": [
    {
     "data": {
      "text/html": [
       "<div>\n",
       "<style scoped>\n",
       "    .dataframe tbody tr th:only-of-type {\n",
       "        vertical-align: middle;\n",
       "    }\n",
       "\n",
       "    .dataframe tbody tr th {\n",
       "        vertical-align: top;\n",
       "    }\n",
       "\n",
       "    .dataframe thead th {\n",
       "        text-align: right;\n",
       "    }\n",
       "</style>\n",
       "<table border=\"1\" class=\"dataframe\">\n",
       "  <thead>\n",
       "    <tr style=\"text-align: right;\">\n",
       "      <th></th>\n",
       "      <th>學年度別</th>\n",
       "      <th>學制別</th>\n",
       "      <th>性別</th>\n",
       "      <th>設立別</th>\n",
       "      <th>檢查人數[人]</th>\n",
       "      <th>視力不良人數[人]</th>\n",
       "      <th>視力不良率[％]</th>\n",
       "    </tr>\n",
       "  </thead>\n",
       "  <tbody>\n",
       "    <tr>\n",
       "      <th>0</th>\n",
       "      <td>86年</td>\n",
       "      <td>國中</td>\n",
       "      <td>合計</td>\n",
       "      <td>總計</td>\n",
       "      <td>117005</td>\n",
       "      <td>87967</td>\n",
       "      <td>75.18</td>\n",
       "    </tr>\n",
       "    <tr>\n",
       "      <th>1</th>\n",
       "      <td>86年</td>\n",
       "      <td>國中</td>\n",
       "      <td>合計</td>\n",
       "      <td>國立</td>\n",
       "      <td>-</td>\n",
       "      <td>-</td>\n",
       "      <td>-</td>\n",
       "    </tr>\n",
       "    <tr>\n",
       "      <th>2</th>\n",
       "      <td>86年</td>\n",
       "      <td>國中</td>\n",
       "      <td>合計</td>\n",
       "      <td>市立</td>\n",
       "      <td>99923</td>\n",
       "      <td>76695</td>\n",
       "      <td>76.75</td>\n",
       "    </tr>\n",
       "    <tr>\n",
       "      <th>3</th>\n",
       "      <td>86年</td>\n",
       "      <td>國中</td>\n",
       "      <td>合計</td>\n",
       "      <td>私立</td>\n",
       "      <td>17082</td>\n",
       "      <td>11272</td>\n",
       "      <td>65.99</td>\n",
       "    </tr>\n",
       "    <tr>\n",
       "      <th>4</th>\n",
       "      <td>86年</td>\n",
       "      <td>國中</td>\n",
       "      <td>男</td>\n",
       "      <td>總計</td>\n",
       "      <td>-</td>\n",
       "      <td>-</td>\n",
       "      <td>-</td>\n",
       "    </tr>\n",
       "  </tbody>\n",
       "</table>\n",
       "</div>"
      ],
      "text/plain": [
       "  學年度別 學制別  性別 設立別 檢查人數[人] 視力不良人數[人] 視力不良率[％]\n",
       "0  86年  國中  合計  總計  117005     87967    75.18\n",
       "1  86年  國中  合計  國立       -         -        -\n",
       "2  86年  國中  合計  市立   99923     76695    76.75\n",
       "3  86年  國中  合計  私立   17082     11272    65.99\n",
       "4  86年  國中   男  總計       -         -        -"
      ]
     },
     "execution_count": 4,
     "metadata": {},
     "output_type": "execute_result"
    }
   ],
   "source": [
    "import pandas as pd\n",
    "\n",
    "## 讓pd讀檔並切換語言參數TEST2\n",
    "n = pd.read_csv(\"TEST2.csv\",encoding = \"Big5\")\n",
    "n.head() #test"
   ]
  },
  {
   "cell_type": "code",
   "execution_count": null,
   "id": "2eddc082",
   "metadata": {},
   "outputs": [],
   "source": []
  }
 ],
 "metadata": {
  "kernelspec": {
   "display_name": "Python 3 (ipykernel)",
   "language": "python",
   "name": "python3"
  },
  "language_info": {
   "codemirror_mode": {
    "name": "ipython",
    "version": 3
   },
   "file_extension": ".py",
   "mimetype": "text/x-python",
   "name": "python",
   "nbconvert_exporter": "python",
   "pygments_lexer": "ipython3",
   "version": "3.9.7"
  }
 },
 "nbformat": 4,
 "nbformat_minor": 5
}
